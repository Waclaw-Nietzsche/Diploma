{
 "cells": [
  {
   "cell_type": "code",
   "execution_count": 4,
   "metadata": {},
   "outputs": [],
   "source": [
    "import os\n",
    "import pickle\n",
    "import pandas as pd\n",
    "import signalprocessing as sigp\n",
    "import seaborn as sn\n",
    "import soundmfccparams as smfccp"
   ]
  },
  {
   "cell_type": "code",
   "execution_count": 5,
   "metadata": {},
   "outputs": [
    {
     "data": {
      "text/plain": [
       "['/home/vaclav/Desktop/Diploma/Dirty Signals/snd.L-01.P3/20200312',\n",
       " '/home/vaclav/Desktop/Diploma/Dirty Signals/snd.L-01.P3/20200214',\n",
       " '/home/vaclav/Desktop/Diploma/Dirty Signals/snd.L-01.P3/20200311',\n",
       " '/home/vaclav/Desktop/Diploma/Dirty Signals/snd.L-01.P3/20200228',\n",
       " '/home/vaclav/Desktop/Diploma/Dirty Signals/snd.L-01.P3/20200310',\n",
       " '/home/vaclav/Desktop/Diploma/Dirty Signals/snd.L-01.P3/20200226',\n",
       " '/home/vaclav/Desktop/Diploma/Dirty Signals/snd.L-01.P3/20200303',\n",
       " '/home/vaclav/Desktop/Diploma/Dirty Signals/snd.L-01.P3/20200227',\n",
       " '/home/vaclav/Desktop/Diploma/Dirty Signals/snd.L-01.P3/20200302',\n",
       " '/home/vaclav/Desktop/Diploma/Dirty Signals/snd.L-01.P3/20200215',\n",
       " '/home/vaclav/Desktop/Diploma/Dirty Signals/snd.L-01.P3/20200301',\n",
       " '/home/vaclav/Desktop/Diploma/Dirty Signals/snd.L-01.P3/20200304',\n",
       " '/home/vaclav/Desktop/Diploma/Dirty Signals/snd.L-01.P3/20200216']"
      ]
     },
     "execution_count": 5,
     "metadata": {},
     "output_type": "execute_result"
    }
   ],
   "source": [
    "subfolders = [ f.path for f in os.scandir('/home/vaclav/Desktop/Diploma/Dirty Signals/snd.L-01.P3/') if f.is_dir() ]\n",
    "subfolders"
   ]
  },
  {
   "cell_type": "code",
   "execution_count": 6,
   "metadata": {},
   "outputs": [
    {
     "name": "stderr",
     "output_type": "stream",
     "text": [
      "/home/vaclav/Desktop/Diploma/Notebooks/Classifier/signalprocessing.py:339: RuntimeWarning: divide by zero encountered in log\n",
      "  return (np.exp((1 / length) * np.sum(np.log(magnitudes)))) / ((1 / length) * np.sum(magnitudes))\n",
      "/home/vaclav/Desktop/Diploma/Notebooks/Classifier/signalprocessing.py:339: RuntimeWarning: divide by zero encountered in log\n",
      "  return (np.exp((1 / length) * np.sum(np.log(magnitudes)))) / ((1 / length) * np.sum(magnitudes))\n"
     ]
    }
   ],
   "source": [
    "for signalPath in subfolders:\n",
    "    signalDataFrame = sigp.extract_data(signalPath)\n",
    "    signalDataFrame.to_csv(os.path.basename(os.path.normpath(signalPath))+'.csv', sep='\\t', encoding='utf-8', index=False)"
   ]
  },
  {
   "cell_type": "code",
   "execution_count": null,
   "metadata": {},
   "outputs": [],
   "source": []
  }
 ],
 "metadata": {
  "kernelspec": {
   "display_name": "Python 3",
   "language": "python",
   "name": "python3"
  },
  "language_info": {
   "codemirror_mode": {
    "name": "ipython",
    "version": 3
   },
   "file_extension": ".py",
   "mimetype": "text/x-python",
   "name": "python",
   "nbconvert_exporter": "python",
   "pygments_lexer": "ipython3",
   "version": "3.7.6"
  }
 },
 "nbformat": 4,
 "nbformat_minor": 4
}
