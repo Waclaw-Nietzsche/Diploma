{
 "cells": [
  {
   "cell_type": "code",
   "execution_count": 1,
   "metadata": {},
   "outputs": [],
   "source": [
    "#r'C:\\Users\\Vaclav\\Documents\\Diploma\\Dirty Signals\\Test\\Test14\\snd-P3.20160212.0028.3.wav'\n",
    "import cv2\n",
    "import thinkplot\n",
    "from thinkdsp import read_wave\n",
    "import numpy as np\n",
    "from matplotlib import pyplot as plt\n",
    "\n",
    "%matplotlib inline\n",
    "#The line above is necesary to show Matplotlib's plots inside a Jupyter Notebook\n",
    "\n",
    "# root=\"TEST\", formats=['png']\n",
    "def plot_save(wave, root, formats,**options):\n",
    "        fs = wave.frequencies()\n",
    "        i = None\n",
    "        fs = fs[:i]\n",
    "        ts = wave.times()\n",
    "\n",
    "        # make the array\n",
    "        size = len(fs), len(ts)\n",
    "        array = np.zeros(size, dtype=np.float)\n",
    "\n",
    "        # copy amplitude from each spectrum into a column of the array\n",
    "        for j, t in enumerate(ts):\n",
    "            spectrum = wave.spec_map[t]\n",
    "            array[:, j] = spectrum.amps[:i]\n",
    "        \n",
    "        thinkplot.pcolor(ts, fs, array, pcolor=True, contour=False, **options)\n",
    "        thinkplot.save(root, formats, **options)"
   ]
  },
  {
   "cell_type": "code",
   "execution_count": 14,
   "metadata": {},
   "outputs": [
    {
     "name": "stderr",
     "output_type": "stream",
     "text": [
      "No handles with labels found to put in legend.\n"
     ]
    },
    {
     "name": "stdout",
     "output_type": "stream",
     "text": [
      "Writing snd-P3.20160212.0028.3.png\n"
     ]
    },
    {
     "data": {
      "text/plain": [
       "<Figure size 576x432 with 0 Axes>"
      ]
     },
     "metadata": {},
     "output_type": "display_data"
    }
   ],
   "source": [
    "wave = read_wave(r\"C:\\Users\\Vaclav\\Documents\\Diploma\\Clean Signals\\ETHALON_SIGNAL\\snd-P3.20150222.1755.0.wav\")\n",
    "wave.normalize()\n",
    "sig = wave.make_spectrogram(1024)\n",
    "plot_save(sig, \"snd-P3.20160212.0028.3\", ['png'])"
   ]
  },
  {
   "cell_type": "code",
   "execution_count": 15,
   "metadata": {},
   "outputs": [
    {
     "data": {
      "text/plain": [
       "True"
      ]
     },
     "execution_count": 15,
     "metadata": {},
     "output_type": "execute_result"
    }
   ],
   "source": [
    "#-----Reading the image-----------------------------------------------------\n",
    "img = cv2.imread('snd-P3.20160212.0028.3.png', 1)\n",
    "\n",
    "#-----Converting image to LAB Color model----------------------------------- \n",
    "lab = cv2.cvtColor(img, cv2.COLOR_BGR2LAB)\n",
    "#cv2.imshow(\"lab\",lab)\n",
    "\n",
    "#-----Splitting the LAB image to different channels-------------------------\n",
    "l, a, b = cv2.split(lab)\n",
    "#cv2.imshow('l_channel', l)\n",
    "#cv2.imshow('a_channel', a)\n",
    "#cv2.imshow('b_channel', b)\n",
    "\n",
    "#-----Applying CLAHE to L-channel-------------------------------------------\n",
    "clahe = cv2.createCLAHE(clipLimit=3.0, tileGridSize=(8,8))\n",
    "cl = clahe.apply(l)\n",
    "#cv2.imshow('CLAHE output', cl)\n",
    "\n",
    "#-----Merge the CLAHE enhanced L-channel with the a and b channel-----------\n",
    "limg = cv2.merge((cl,a,b))\n",
    "#cv2.imshow('limg', limg)\n",
    "\n",
    "#-----Converting image from LAB Color model to RGB model--------------------\n",
    "final = cv2.cvtColor(limg, cv2.COLOR_LAB2BGR)\n",
    "#cv2.imshow('final', final)\n",
    "\n",
    "#-----Cropping image and saving it-------------------------------------------------------\n",
    "crop_img = img[150:150+895,235:235+1330]\n",
    "cv2.imwrite('snd-P3.20160212.0028.3.png',crop_img)"
   ]
  },
  {
   "cell_type": "code",
   "execution_count": 16,
   "metadata": {},
   "outputs": [
    {
     "data": {
      "image/png": "[encoded data removed]",
      "text/plain": [
       "<Figure size 432x288 with 1 Axes>"
      ]
     },
     "metadata": {
      "needs_background": "light"
     },
     "output_type": "display_data"
    }
   ],
   "source": [
    "#Show the image with matplotlib\n",
    "plt.imshow(crop_img)\n",
    "plt.axis('off')\n",
    "plt.show()"
   ]
  },
  {
   "cell_type": "code",
   "execution_count": 17,
   "metadata": {},
   "outputs": [],
   "source": [
    "gray = cv2.cvtColor(crop_img,cv2.COLOR_BGR2GRAY)\n",
    "edges = cv2.Canny(gray, 75, 150)\n",
    "lines = cv2.HoughLinesP(edges, 1, np.pi/180, 30, maxLineGap=250)\n",
    "for line in lines:\n",
    "    x1, y1, x2, y2 = line[0]\n",
    "    cv2.line(crop_img, (x1, y1), (x2, y2), (0, 0, 128), 1)"
   ]
  },
  {
   "cell_type": "code",
   "execution_count": 18,
   "metadata": {},
   "outputs": [
    {
     "data": {
      "text/plain": [
       "True"
      ]
     },
     "execution_count": 18,
     "metadata": {},
     "output_type": "execute_result"
    }
   ],
   "source": [
    "edges = cv2.Canny(gray,50,150,apertureSize = 7)\n",
    "minLineLength = 100\n",
    "maxLineGap = 10\n",
    "lines = cv2.HoughLinesP(edges,1,np.pi/180,100,minLineLength,maxLineGap)\n",
    "for x1,y1,x2,y2 in lines[0]:\n",
    "    cv2.line(img,(x1,y1),(x2,y2),(0,255,0),2)\n",
    "\n",
    "cv2.imwrite('snd-P3.20160212.0028.3_lines.png',crop_img)\n",
    "cv2.imwrite('snd-P3.20160212.0028.3_edges.png',edges)"
   ]
  },
  {
   "cell_type": "code",
   "execution_count": 19,
   "metadata": {},
   "outputs": [
    {
     "data": {
      "text/plain": [
       "330"
      ]
     },
     "execution_count": 19,
     "metadata": {},
     "output_type": "execute_result"
    }
   ],
   "source": [
    "len(lines)"
   ]
  },
  {
   "cell_type": "code",
   "execution_count": 20,
   "metadata": {},
   "outputs": [
    {
     "data": {
      "image/png": "[encoded data removed]",
      "text/plain": [
       "<Figure size 432x288 with 1 Axes>"
      ]
     },
     "metadata": {
      "needs_background": "light"
     },
     "output_type": "display_data"
    }
   ],
   "source": [
    "#Show the image with matplotlib\n",
    "limg = cv2.imread('snd-P3.20160212.0028.3_lines.png', 1)\n",
    "plt.imshow(limg)\n",
    "plt.axis('off')\n",
    "plt.show()"
   ]
  },
  {
   "cell_type": "code",
   "execution_count": null,
   "metadata": {},
   "outputs": [],
   "source": []
  }
 ],
 "metadata": {
  "kernelspec": {
   "display_name": "Python 3",
   "language": "python",
   "name": "python3"
  },
  "language_info": {
   "codemirror_mode": {
    "name": "ipython",
    "version": 3
   },
   "file_extension": ".py",
   "mimetype": "text/x-python",
   "name": "python",
   "nbconvert_exporter": "python",
   "pygments_lexer": "ipython3",
   "version": "3.7.6"
  }
 },
 "nbformat": 4,
 "nbformat_minor": 4
}
